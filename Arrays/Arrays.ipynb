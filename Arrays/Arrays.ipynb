{
  "nbformat": 4,
  "nbformat_minor": 0,
  "metadata": {
    "colab": {
      "name": "Arrays.ipynb",
      "provenance": []
    },
    "kernelspec": {
      "name": "python3",
      "display_name": "Python 3"
    },
    "language_info": {
      "name": "python"
    }
  },
  "cells": [
    {
      "cell_type": "markdown",
      "source": [
        "Search, Insert And Delete In An Unsorted Array\n",
        "\n",
        "Unsorted operations are generally performed by using Linear Search and the time complexity of Linear Search is O(n)"
      ],
      "metadata": {
        "id": "avdG77BTse7f"
      }
    },
    {
      "cell_type": "code",
      "source": [
        "                                                                          # Search Operation\n",
        "def findElement(arr, n, key):\n",
        "  for i in range(n):\n",
        "    if (arr[i] == key):\n",
        "      return i\n",
        "  return -1"
      ],
      "metadata": {
        "id": "WhgEbkGUsj_y"
      },
      "execution_count": null,
      "outputs": []
    },
    {
      "cell_type": "code",
      "source": [
        "arr = [12, 36, 10, 6, 40]\n",
        "key = 12\n",
        "n = len(arr)\n",
        "\n",
        "index = findElement(arr, n, key)\n",
        "if index != -1:\n",
        "  print('Element found at index: ' + str(index))\n",
        "else:\n",
        "  print('Element not found')\n",
        "\n",
        "\n",
        "# Time Complexity  = O(n)\n",
        "# Auxilary Space = O(1)"
      ],
      "metadata": {
        "colab": {
          "base_uri": "https://localhost:8080/"
        },
        "id": "aqgqFYtUtcKm",
        "outputId": "7ccc59ac-e80e-4965-daca-54559bad32ad"
      },
      "execution_count": null,
      "outputs": [
        {
          "output_type": "stream",
          "name": "stdout",
          "text": [
            "Element found at index: 0\n"
          ]
        }
      ]
    },
    {
      "cell_type": "code",
      "source": [
        "                                                                          # Insert Operation\n",
        "def insert(arr1, element):\n",
        "  arr1.append(element)"
      ],
      "metadata": {
        "id": "VYJ745gitxPv"
      },
      "execution_count": null,
      "outputs": []
    },
    {
      "cell_type": "code",
      "source": [
        "arr1 = [10, 20, 30, 40]\n",
        "key = 90\n",
        "insert(arr1, key)\n",
        "print(arr1)\n",
        "\n",
        "\n",
        "\n",
        "# Time Complexity = O(1)\n",
        "# Auxilary Space = O(1)"
      ],
      "metadata": {
        "colab": {
          "base_uri": "https://localhost:8080/"
        },
        "id": "UinOG85evrGO",
        "outputId": "3afe4f41-5de5-454e-ef19-7472c5d1625c"
      },
      "execution_count": null,
      "outputs": [
        {
          "output_type": "stream",
          "name": "stdout",
          "text": [
            "[10, 20, 30, 40, 90]\n"
          ]
        }
      ]
    },
    {
      "cell_type": "code",
      "source": [
        "                                                                          # Delete Operation\n",
        "key1 = 90\n",
        "arr1.remove(key1)"
      ],
      "metadata": {
        "id": "e2PEg9zuv8hO"
      },
      "execution_count": null,
      "outputs": []
    },
    {
      "cell_type": "code",
      "source": [
        "print(arr1)\n",
        "\n",
        "\n",
        "# Time Complexity = O(n)\n",
        "# Auxilary Space = O(1)"
      ],
      "metadata": {
        "colab": {
          "base_uri": "https://localhost:8080/"
        },
        "id": "vtu0L0TKxXGh",
        "outputId": "3843d858-009d-4208-a792-3cb32e5ce727"
      },
      "execution_count": null,
      "outputs": [
        {
          "output_type": "stream",
          "name": "stdout",
          "text": [
            "[10, 20, 30, 40]\n"
          ]
        }
      ]
    },
    {
      "cell_type": "markdown",
      "source": [
        "Search, Insert And Delete In A Sorted Array\n",
        "\n",
        "Sorted operations are generally performed with the help of Binary Search and for that the time complexity is O(log n)"
      ],
      "metadata": {
        "id": "l6IVcS_o0_PL"
      }
    },
    {
      "cell_type": "code",
      "source": [
        "                                                              # Search Operation\n",
        "def binarySearch(arr2, low, high, key2):\n",
        "  mid = (low + high) / 2\n",
        "\n",
        "  if (key2 == arr2[int(mid)]):\n",
        "    return mid\n",
        "  if (key2 > arr2[int(mid)]):\n",
        "    return binarySearch(arr2, (mid+1), high, key2)\n",
        "  if (key2 < arr2[int(mid)]):\n",
        "    return binarySearch(arr2, (mid-1), low, key)\n",
        "  return 0"
      ],
      "metadata": {
        "id": "RSpJ288XxYVI"
      },
      "execution_count": null,
      "outputs": []
    },
    {
      "cell_type": "code",
      "source": [
        "arr2 = [10, 20, 30, 40, 50, 60, 70, 80, 90]\n",
        "key2 = 80\n",
        "n = len(arr2)\n",
        "\n",
        "print('Index: ', int(binarySearch(arr2, 0, n-1, key2) ))\n",
        "\n",
        "\n",
        "# Time Complexity O(log(n))  because of Binary Search\n",
        "# Auxilary Space  O(log(n))  because of Recursive Call"
      ],
      "metadata": {
        "colab": {
          "base_uri": "https://localhost:8080/"
        },
        "id": "-RljI9aZ3-F3",
        "outputId": "07a9d4d9-8c3f-4b79-ffd8-827be45ead7b"
      },
      "execution_count": null,
      "outputs": [
        {
          "output_type": "stream",
          "name": "stdout",
          "text": [
            "Index:  7\n"
          ]
        }
      ]
    },
    {
      "cell_type": "code",
      "source": [
        "                                                                         # Insert Operation\n",
        "def insertSorted(arr2, n, key2, capacity):\n",
        "  if (n>=capacity):\n",
        "    return n \n",
        "  \n",
        "  i = n-1\n",
        "  while i>=0 and arr2[i] > key2:\n",
        "    arr2[i+1] = arr2[i]\n",
        "    i -= 1\n",
        "  arr2[i+1] = key2\n",
        "  return (n+1)"
      ],
      "metadata": {
        "id": "ZOOpzvP74Wbh"
      },
      "execution_count": null,
      "outputs": []
    },
    {
      "cell_type": "code",
      "source": [
        "for i in range(80):\n",
        "  arr2.append(0)\n",
        "capacity = len(arr2)\n",
        "n = 9\n",
        "key2 = 88\n",
        "\n",
        "print('Before Insertion: ', end = \" \")\n",
        "for i in range(n):\n",
        "  print(arr2[i], end = \" \")\n",
        "n = insertSorted(arr2, n, key2, capacity)\n",
        "print('\\n After Insertion: ', end = \" \")\n",
        "for i in range(n):\n",
        "  print(arr2[i], end = \" \")\n",
        "\n",
        "\n",
        "# Time Complexity = O(n) because in worst case we need to move all the elements\n",
        "# Auxilary Space = O(1)"
      ],
      "metadata": {
        "colab": {
          "base_uri": "https://localhost:8080/"
        },
        "id": "0FuZNdcu6jz0",
        "outputId": "520ce634-764f-47fb-a8e1-6eefc5ce7310"
      },
      "execution_count": null,
      "outputs": [
        {
          "output_type": "stream",
          "name": "stdout",
          "text": [
            "Before Insertion:  10 20 30 40 50 60 70 80 90 \n",
            " After Insertion:  10 20 30 40 50 60 70 80 88 90 "
          ]
        }
      ]
    },
    {
      "cell_type": "code",
      "source": [
        "                                                                   # Delete Operation\n",
        "def deleteElement(arr2, n, key2):\n",
        "  pos = binarySearch(arr2, 0, n-1, key2)\n",
        "  if(pos == -1):\n",
        "    print('Element not found')\n",
        "    return n\n",
        "  for i in range(pos, n-1):\n",
        "    arr2[i] = arr2[i+1]\n",
        "  return n-1"
      ],
      "metadata": {
        "id": "gH-1ZQ117XUy"
      },
      "execution_count": null,
      "outputs": []
    },
    {
      "cell_type": "code",
      "source": [
        "def binarySearch(arr2, low, high, key2):\n",
        "  if (high < low):\n",
        "    return -1\n",
        "  mid = (low + high) // 2\n",
        "  if (key2 == arr2[mid]):\n",
        "    return mid\n",
        "  if(key2>arr2[mid]):\n",
        "    return binarySearch(arr2, (mid+1), high, key2)\n",
        "  return binarySearch(arr2, low, (mid-1), key2)"
      ],
      "metadata": {
        "id": "pmejGco792DA"
      },
      "execution_count": null,
      "outputs": []
    },
    {
      "cell_type": "code",
      "source": [
        "key2 = 88\n",
        "print('Array before deletion')\n",
        "for i in range(n):\n",
        "  print(arr2[i], end = \" \")\n",
        "n = deleteElement(arr2, n, key2)\n",
        "print('\\n\\n Array After Deletion')\n",
        "for i in range(n):\n",
        "  print(arr2[i], end = \" \")\n",
        "\n",
        "# Time Complexity = O(n) because in worst case we need to move all the elements\n",
        "# Auxilary Space = O(log n) As implicit stack will be used"
      ],
      "metadata": {
        "colab": {
          "base_uri": "https://localhost:8080/"
        },
        "id": "UCi4cO4F8xfs",
        "outputId": "bd5bd449-a007-427c-f6f6-db7772ab88c3"
      },
      "execution_count": null,
      "outputs": [
        {
          "output_type": "stream",
          "name": "stdout",
          "text": [
            "Array before deletion\n",
            "10 20 30 40 50 60 70 80 88 90 \n",
            "\n",
            " Array After Deletion\n",
            "10 20 30 40 50 60 70 80 90 "
          ]
        }
      ]
    },
    {
      "cell_type": "markdown",
      "source": [
        "Find the element that appears once in an array where every other element appears twice"
      ],
      "metadata": {
        "id": "E8QvruJNfYGj"
      }
    },
    {
      "cell_type": "code",
      "source": [
        "def findSingle(ar, n):\n",
        "  res = ar[0]\n",
        "  for i in range(1, n):\n",
        "    res = res^ar[i]\n",
        "  return res"
      ],
      "metadata": {
        "id": "gK-ZYT3d_vwL"
      },
      "execution_count": null,
      "outputs": []
    },
    {
      "cell_type": "code",
      "source": [
        "ar = [2, 3, 4, 3, 5, 4, 5]\n",
        "print('Element occurring once is: ', findSingle(ar, len(ar)))\n",
        "\n",
        "\n",
        "# Time complexity = O(n)\n",
        "# Auxilary Space = O(1)"
      ],
      "metadata": {
        "colab": {
          "base_uri": "https://localhost:8080/"
        },
        "id": "B2paCV1IkL7Q",
        "outputId": "e49da34e-ef06-4d12-b899-2d8863cabe51"
      },
      "execution_count": null,
      "outputs": [
        {
          "output_type": "stream",
          "name": "stdout",
          "text": [
            "Element occurring once is:  2\n"
          ]
        }
      ]
    },
    {
      "cell_type": "code",
      "source": [
        "                                                          # Alternative solution for this is to solve by Binary Search. Array should be sorted\n",
        "def singleElement(ar, n):\n",
        "  low = 0\n",
        "  high = n-2\n",
        "  mid = 0\n",
        "  while(low <= high):\n",
        "    mid = (low + high) // 2\n",
        "    if (ar[mid] == ar[mid^1]):\n",
        "      low = mid+1\n",
        "    else:\n",
        "      high = mid-1\n",
        "  return ar[low]"
      ],
      "metadata": {
        "id": "UJtUeVYhkaJZ"
      },
      "execution_count": null,
      "outputs": []
    },
    {
      "cell_type": "code",
      "source": [
        "ar.sort()\n",
        "size = len(ar)\n",
        "print(singleElement(ar, size))\n",
        "\n",
        "\n",
        "# Time Complexity = O(nlogn)\n",
        "# Auxilary Space = O(1)"
      ],
      "metadata": {
        "colab": {
          "base_uri": "https://localhost:8080/"
        },
        "id": "xPRHjiDsoR2_",
        "outputId": "31f24a6d-c76c-416e-c6d2-7cbe9794b3b5"
      },
      "execution_count": null,
      "outputs": [
        {
          "output_type": "stream",
          "name": "stdout",
          "text": [
            "2\n"
          ]
        }
      ]
    },
    {
      "cell_type": "markdown",
      "source": [
        "Find the only repetitive element between 1 to n-1"
      ],
      "metadata": {
        "id": "HO0DBHUlyRHj"
      }
    },
    {
      "cell_type": "code",
      "source": [
        "def findRepeat(arr3, n):\n",
        "  for i in range(n):\n",
        "    for j in range(i+1, n):\n",
        "      if(arr3[i] == arr3[j]):\n",
        "        return arr3[i]"
      ],
      "metadata": {
        "id": "CL1qbff_obDz"
      },
      "execution_count": null,
      "outputs": []
    },
    {
      "cell_type": "code",
      "source": [
        "arr3 = [1, 2, 3, 4, 5, 4]\n",
        "n = len(arr3)\n",
        "print(findRepeat(arr3, n))\n",
        "\n",
        "\n",
        "# Time Complexity = O(n^2)\n",
        "# Auxilary Space = O(1)"
      ],
      "metadata": {
        "colab": {
          "base_uri": "https://localhost:8080/"
        },
        "id": "p9RrcUNv_VmP",
        "outputId": "4b06d45c-c637-4a04-dc29-21c10744554e"
      },
      "execution_count": null,
      "outputs": [
        {
          "output_type": "stream",
          "name": "stdout",
          "text": [
            "4\n"
          ]
        }
      ]
    },
    {
      "cell_type": "code",
      "source": [
        "                                                                       # Using Sorting\n",
        "def findrepeat(arr3, n):\n",
        "  arr3.sort()\n",
        "  for i in range(1, n+1):\n",
        "    if arr3[i] != i+1:\n",
        "      return arr3[i]"
      ],
      "metadata": {
        "id": "e6bEOYnU_f85"
      },
      "execution_count": null,
      "outputs": []
    },
    {
      "cell_type": "code",
      "source": [
        "print(findrepeat(arr3, n))\n",
        "\n",
        "\n",
        "# Time Complexity = O(NlogN)\n",
        "# Auxilary Space = O(1)"
      ],
      "metadata": {
        "colab": {
          "base_uri": "https://localhost:8080/"
        },
        "id": "OgUXqIHPF6v4",
        "outputId": "e8aeeb16-f227-4de0-9320-d997b167ef8c"
      },
      "execution_count": null,
      "outputs": [
        {
          "output_type": "stream",
          "name": "stdout",
          "text": [
            "4\n"
          ]
        }
      ]
    },
    {
      "cell_type": "code",
      "source": [
        "                                                                    # Using Sum Formula\n",
        "def findrepeating(arr3, n):\n",
        "  return sum(arr3) - (((n-1) * n) // 2)"
      ],
      "metadata": {
        "id": "bBJHoDEeF-2x"
      },
      "execution_count": null,
      "outputs": []
    },
    {
      "cell_type": "code",
      "source": [
        "print(findrepeating(arr3, n))\n",
        "\n",
        "# Time Complexity = O(N)\n",
        "# Auxilary Space = O(1)"
      ],
      "metadata": {
        "colab": {
          "base_uri": "https://localhost:8080/"
        },
        "id": "GnczhUrkM__0",
        "outputId": "1dd89768-2483-4441-89fb-7cdbdce4bde8"
      },
      "execution_count": null,
      "outputs": [
        {
          "output_type": "stream",
          "name": "stdout",
          "text": [
            "4\n"
          ]
        }
      ]
    },
    {
      "cell_type": "code",
      "source": [
        "                                                                      # Using XOR\n",
        "def findrepeatwithXOR(arr3, n):\n",
        "  res = 0\n",
        "  for i in range(0, n-1):\n",
        "    res = res ^ (i+1) ^ arr3[i]\n",
        "  res = res ^ arr3[n-1]\n",
        "  return res"
      ],
      "metadata": {
        "id": "XpPJXCtfNDvu"
      },
      "execution_count": null,
      "outputs": []
    },
    {
      "cell_type": "code",
      "source": [
        "findrepeatwithXOR(arr3, n)"
      ],
      "metadata": {
        "colab": {
          "base_uri": "https://localhost:8080/"
        },
        "id": "rJY8d5AsVziC",
        "outputId": "f04355e1-bbb3-41e0-d3fe-a6457866a506"
      },
      "execution_count": null,
      "outputs": [
        {
          "output_type": "execute_result",
          "data": {
            "text/plain": [
              "4"
            ]
          },
          "metadata": {},
          "execution_count": 8
        }
      ]
    },
    {
      "cell_type": "code",
      "source": [
        "                                                                # Using Indexing\n",
        "\n",
        "def findrepeatingindex(arr3, n):\n",
        "  miss = 0\n",
        "  for i in range(0, n):\n",
        "    element = arr3[abs(arr3[i])]\n",
        "    if (element < 0):\n",
        "      miss = arr3[i]\n",
        "      break\n",
        "    arr3[abs(arr3[i])] = -arr3[abs(arr3[i])]\n",
        "  return abs(miss)"
      ],
      "metadata": {
        "id": "LDd8zMzrV2MM"
      },
      "execution_count": null,
      "outputs": []
    },
    {
      "cell_type": "code",
      "source": [
        "print(findrepeatingindex(arr3, n))\n",
        "\n",
        "\n",
        "# Time Complexity = O(N)\n",
        "# Auxilary Space = O(1)"
      ],
      "metadata": {
        "colab": {
          "base_uri": "https://localhost:8080/"
        },
        "id": "Y_J1N3OLE5xd",
        "outputId": "0de2c8e5-9f4e-4ac4-df3d-cfb90190df14"
      },
      "execution_count": null,
      "outputs": [
        {
          "output_type": "stream",
          "name": "stdout",
          "text": [
            "4\n"
          ]
        }
      ]
    },
    {
      "cell_type": "markdown",
      "source": [
        "Given an array A[] and a number x, check for pair in A[] with sum as x (aka Two Sum)"
      ],
      "metadata": {
        "id": "uc1ktrhbbcht"
      }
    },
    {
      "cell_type": "code",
      "source": [
        "def chkPair(arr4, size, x):\n",
        "  for i in range(0, size-1):\n",
        "    for j in range(i+1, size):\n",
        "      if (arr4[i] + arr4[j] == x):\n",
        "        print(f\"Pair with given sum {x} is ({arr4[i], arr4[j]})\")"
      ],
      "metadata": {
        "id": "yGtaN7ZzE9Fe"
      },
      "execution_count": null,
      "outputs": []
    },
    {
      "cell_type": "code",
      "source": [
        "arr4 = [1, 2, -3, 4, 5]\n",
        "size = len(arr4)\n",
        "x = -2\n",
        "print(chkPair(arr4, size, x))\n",
        "\n",
        "\n",
        "# Time complexity = O(N^2)\n",
        "# Auxilary Space = O(1)"
      ],
      "metadata": {
        "colab": {
          "base_uri": "https://localhost:8080/"
        },
        "id": "BagSmcT6RESn",
        "outputId": "68dd6a1d-6e99-4e11-d235-1cb55967b9e5"
      },
      "execution_count": null,
      "outputs": [
        {
          "output_type": "stream",
          "name": "stdout",
          "text": [
            "Pair with given sum -2 is ((1, -3))\n",
            "None\n"
          ]
        }
      ]
    },
    {
      "cell_type": "code",
      "source": [
        "                                                                          # Hashing\n",
        "def checkPair(arr5, size1, x1):\n",
        "  hashmap = {}\n",
        "  for i in range(0, size1):\n",
        "    temp = x1 - arr5[i]\n",
        "    if (temp in hashmap):\n",
        "      print(f\"Pair with given sum {x1} is ({temp, arr5[i]}) at indices ({hashmap[temp]}, {i})\")\n",
        "    hashmap[arr5[i]] = i"
      ],
      "metadata": {
        "id": "-4G-iZdMRWHd"
      },
      "execution_count": null,
      "outputs": []
    },
    {
      "cell_type": "code",
      "source": [
        "arr5 = [1, 2, 3, 4, 5]\n",
        "x1 = 3\n",
        "print(checkPair(arr5, len(arr5), n))\n",
        "\n",
        "\n",
        "# Time Complexity = O(N)\n",
        "# Auxilary Space = O(N)"
      ],
      "metadata": {
        "colab": {
          "base_uri": "https://localhost:8080/"
        },
        "id": "TpVVPphUWQZP",
        "outputId": "5a3143f8-823d-4e9d-f3a0-0014d2306fa6"
      },
      "execution_count": null,
      "outputs": [
        {
          "output_type": "stream",
          "name": "stdout",
          "text": [
            "Pair with given sum 3 is ((1, 2)) at indices (0, 1)\n",
            "None\n"
          ]
        }
      ]
    },
    {
      "cell_type": "markdown",
      "source": [
        "Find a triplet that sum to a given value"
      ],
      "metadata": {
        "id": "ZiCCIo0AR5ry"
      }
    },
    {
      "cell_type": "code",
      "source": [
        "                                                                  # generate all possible triplets and compare the sum of every triplet with the given value.\n",
        "def findTriplet(arr6, size, sum):\n",
        "  for i in range( 0, size-2):\n",
        "    for j in range(i+1, size-1):\n",
        "      for k in range(j+1, size):\n",
        "        if arr6[i]+arr6[j]+arr6[k] == sum:\n",
        "          print(\"The triplet is: \", arr6[i], \", \", arr6[j], \", \", arr6[k])\n",
        "          return True\n",
        "  return False"
      ],
      "metadata": {
        "id": "SVQuEmSPWcTH"
      },
      "execution_count": 7,
      "outputs": []
    },
    {
      "cell_type": "code",
      "source": [
        "arr6  = [1, 2, 3, 4, 5, 6, 7, 8, 9, 10]\n",
        "size = len(arr6)\n",
        "sum = 10\n",
        "print(findTriplet(arr6, size, sum))\n",
        "\n",
        "\n",
        "# Time Complexity = O(N^3)\n",
        "# Auxilary Space = O(1)"
      ],
      "metadata": {
        "colab": {
          "base_uri": "https://localhost:8080/"
        },
        "id": "EofjHKbBS5qR",
        "outputId": "9e7a0803-2323-4d40-ea3e-480673e11b90"
      },
      "execution_count": 8,
      "outputs": [
        {
          "output_type": "stream",
          "name": "stdout",
          "text": [
            "The triplet is:  1 ,  2 ,  7\n",
            "True\n"
          ]
        }
      ]
    },
    {
      "cell_type": "code",
      "source": [
        "                                                                # sorting to increase the efficiency of the code. \n",
        "def findTrip(arr6, size, sum):\n",
        "  arr6.sort()\n",
        "\n",
        "  for i in range(0, size-2):\n",
        "    l  = i + 1\n",
        "    r = size-1\n",
        "    while(l<r):\n",
        "      if arr6[i]+arr6[l]+arr6[r] == sum:\n",
        "          print(\"The triplet is: \", arr6[i], \", \", arr6[l], \", \", arr6[r])\n",
        "          return True\n",
        "      elif arr6[i]+arr6[l]+arr6[r] < sum:\n",
        "        l += 1\n",
        "      else:\n",
        "        r -= 1\n",
        "  return False                                                             "
      ],
      "metadata": {
        "id": "_r6VQWjYTGyg"
      },
      "execution_count": 9,
      "outputs": []
    },
    {
      "cell_type": "code",
      "source": [
        "arr6  = [1, 2, 3, 4, 5, 6, 7, 8, 9, 10]\n",
        "size = len(arr6)\n",
        "sum = 20\n",
        "print(findTrip(arr6, size, sum))\n",
        "\n",
        "\n",
        "# Time Complexity = O(N^2)\n",
        "# Auxilary Space = O(1)"
      ],
      "metadata": {
        "colab": {
          "base_uri": "https://localhost:8080/"
        },
        "id": "gIyRt23dWgml",
        "outputId": "0ccade2c-ab3a-40fc-8d3e-f70929df7693"
      },
      "execution_count": 11,
      "outputs": [
        {
          "output_type": "stream",
          "name": "stdout",
          "text": [
            "The triplet is:  1 ,  9 ,  10\n",
            "True\n"
          ]
        }
      ]
    },
    {
      "cell_type": "code",
      "source": [
        "                                                                        # Using Hashing\n",
        "def findTriple(arr6, size, sum):\n",
        "  for i in range(0, size-1):\n",
        "    s = set()\n",
        "    cur_sum = sum-arr6[i]\n",
        "    for j in range(i+1, size):\n",
        "      if (cur_sum-arr6[j]) in s:\n",
        "        print(\"Triplet is: \", arr6[i], \", \", arr6[j], \", \", cur_sum-arr6[j])\n",
        "        return True\n",
        "      s.add(arr6[j])\n",
        "  return False"
      ],
      "metadata": {
        "id": "aY-UgDk7WkM8"
      },
      "execution_count": 12,
      "outputs": []
    },
    {
      "cell_type": "code",
      "source": [
        "arr6  = [1, 2, 3, 4, 5, 6, 7, 8, 9, 10]\n",
        "size = len(arr6)\n",
        "sum = 16\n",
        "print(findTrip(arr6, size, sum))\n",
        "\n",
        "\n",
        "# Time Complexity = O(N^2)\n",
        "# Auxilary Space  = O(N)"
      ],
      "metadata": {
        "colab": {
          "base_uri": "https://localhost:8080/"
        },
        "id": "ATjSARNHX_00",
        "outputId": "a1e2c260-536a-4ca5-acbf-10ffc50beb91"
      },
      "execution_count": 13,
      "outputs": [
        {
          "output_type": "stream",
          "name": "stdout",
          "text": [
            "The triplet is:  1 ,  5 ,  10\n",
            "True\n"
          ]
        }
      ]
    },
    {
      "cell_type": "code",
      "source": [
        ""
      ],
      "metadata": {
        "id": "dfUVwNf6YElr"
      },
      "execution_count": null,
      "outputs": []
    }
  ]
}